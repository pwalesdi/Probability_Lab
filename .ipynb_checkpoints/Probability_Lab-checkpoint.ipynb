{
 "cells": [
  {
   "cell_type": "markdown",
   "metadata": {},
   "source": [
    "# \"Fun with Loot Boxes\" Lab\n",
    "\n",
    "> Author: Caroline Schmitt, Matt Brems\n",
    "\n",
    "### Scenario:\n",
    "\n",
    "You're an analyst for [Zynga](https://en.wikipedia.org/wiki/Zynga), a gaming studio working on an event for an MMO (massively multiplayer online) game. This event is going to include **loot boxes**.\n",
    "\n",
    "<img src=\"https://vignette.wikia.nocookie.net/2007scape/images/0/06/Culinaromancer%27s_chest.png/revision/latest?cb=20180403231423\" alt=\"drawing\" width=\"150\"/> \n",
    "\n",
    "A loot box is basically a treasure chest in a game. This loot box can be opened to reveal a variety of items: some items are very rare and valuable, other items are common and less valuable. (You may consult [the esteemed Wikipedia](https://en.wikipedia.org/wiki/Loot_box) for a more extensive definition.)\n",
    "\n",
    "In our specific game, suppose that loot boxes can be obtained in one of two ways: \n",
    "- After every three hours of playing the game, a user will earn one loot box.\n",
    "- If the user wishes to purchase a loot box, they may pay $1 (in real money!) for a loot box.\n",
    "\n",
    "These loot boxes are very good for our business!\n",
    "- If a player earns a loot box, it means they are spending lots of time on the game. This often leads to advertisement revenue, they may tell their friends to join the game, etc.\n",
    "- If the player purchases a loot box, it means we've earned $1 from our customer.\n",
    "\n",
    "Suppose each loot box is opened to reveal either:\n",
    "- magical elixir (super rare, very valuable), or\n",
    "- nothing.\n",
    "\n",
    "Whether each loot box contains the elixir or nothing is **random**. Our boss wants some guidance on what sort of randomness to use on these loot boxes! \n",
    "- If the magical elixir is too rare, then users may not be motivated to try to get them, because they believe they'll never find the magical elixir.\n",
    "- If the magical elixir is too common, then users may not be motivated to try to get them, because the game has so much of the magical elixir that it isn't worthwhile to try to get it.\n",
    "\n",
    "However, our boss isn't a math-y type person! When explaining things to our boss, we need to explain the impact of our choices on the game as concretely as possible.\n",
    "\n",
    "### Version 1\n",
    "In our first version of the game, we'll say that loot boxes contain magical elixir 15% of the time and nothing 85% of the time.\n",
    "\n",
    "#### 1. Our boss asks, \"If a user buys 100 loot boxes, how many elixirs will they get?\" How would you respond?"
   ]
  },
  {
   "cell_type": "markdown",
   "metadata": {},
   "source": [
    "* We are most likley to get 15 elixers because that is expected value of sampling 100 loot boxes. That doesn't mean that we will definitley get 15 elixers but rather that 15 is the most likley value we will get."
   ]
  },
  {
   "cell_type": "markdown",
   "metadata": {},
   "source": [
    "#### 2. Our boss asks, \"How many loot boxes does someone have to purchase in order to definitely get elixir?\" How would you respond?"
   ]
  },
  {
   "cell_type": "code",
   "execution_count": 3,
   "metadata": {},
   "outputs": [],
   "source": [
    "import numpy as np\n",
    "import matplotlib.pyplot as plt\n",
    "import scipy.stats as stats"
   ]
  },
  {
   "cell_type": "markdown",
   "metadata": {},
   "source": [
    "I would annswer boss as such: \"While there is no way to guarantee that you will ever get an elixir, you would have to open 24 loot boxes to have over a 99% chance of getting an elixir.\""
   ]
  },
  {
   "cell_type": "code",
   "execution_count": 93,
   "metadata": {},
   "outputs": [
    {
     "data": {
      "text/plain": [
       "0.9939195914098571"
      ]
     },
     "execution_count": 93,
     "metadata": {},
     "output_type": "execute_result"
    }
   ],
   "source": [
    "p_elixer = 0.15\n",
    "p_no_elixer = 0.85\n",
    "total_boxes = 100\n",
    "\n",
    "elixer_outcomes = list(range(0, 35))\n",
    "\n",
    "elixer_dist = stats.binom(total_boxes, p_elixer)\n",
    "elixer_dist.cdf(24)"
   ]
  },
  {
   "cell_type": "code",
   "execution_count": 5,
   "metadata": {},
   "outputs": [
    {
     "data": {
      "image/png": "[encoded data removed]",
      "text/plain": [
       "<Figure size 432x288 with 1 Axes>"
      ]
     },
     "metadata": {
      "needs_background": "light"
     },
     "output_type": "display_data"
    }
   ],
   "source": [
    "plt.step(elixer_outcomes, elixer_dist.cdf(elixer_outcomes));\n",
    "plt.xlabel('# of Elixrs');\n",
    "plt.ylabel('Cum. Prob. of Elixr');"
   ]
  },
  {
   "cell_type": "markdown",
   "metadata": {},
   "source": [
    "#### 3. Our boss asks, \"If a user earns 100 loot boxes, what is the chance that a user gets more than 20 elixirs?\" This is a bit more complicated, so let's break it down before answering."
   ]
  },
  {
   "cell_type": "code",
   "execution_count": 103,
   "metadata": {},
   "outputs": [
    {
     "name": "stdout",
     "output_type": "stream",
     "text": [
      "6.631976581888166%\n"
     ]
    }
   ],
   "source": [
    "print(str((1 - (elixer_dist.cdf(20)))*100)+'%')"
   ]
  },
  {
   "cell_type": "markdown",
   "metadata": {},
   "source": [
    "In this situation you need to know the cumlative probably of 21 through ∞. You use the cumlative distribution function to find the cumulative probability distribution for 0 through 20 and then you subtract that value from 1. In this case the probability is 6.63% change that a user gets more than 20 elixirs in 100 loot boxes."
   ]
  },
  {
   "cell_type": "markdown",
   "metadata": {},
   "source": [
    "\n",
    "\n",
    "#### 3a. Let's suppose my random variable $X$ counts up how many elixirs I observe out of my 100 loot boxes. Why is $X$ a discrete random variable?\n",
    "\n",
    "Your variable is a descrete random variable because it is countable. The number of elixers is value that is countable and not continuous."
   ]
  },
  {
   "cell_type": "markdown",
   "metadata": {},
   "source": [
    "#### 3b. Recall our discrete distributions: discrete uniform, Bernoulli, binomial, Poisson. Let's suppose my random variable $X$ counts up how many elixirs I observe out of my 100 loot boxes. What distribution is best suited for $X$? Why?\n",
    "- Hint: It may help to consider getting the magical elixir a \"success\" and getting nothing a \"failure.\" "
   ]
  },
  {
   "cell_type": "markdown",
   "metadata": {},
   "source": [
    "We are going to use a binomial distribution to model our data. In this situation getting an elixir is a successful outcome and not getting an elixir is a failure outcome. The total number of boxes will be our trials, represented by n, and p will be the probability of a success. In this example p = 0.15 or 15%"
   ]
  },
  {
   "cell_type": "markdown",
   "metadata": {},
   "source": [
    "#### 3c. Our boss asks, \"If a user earns 100 loot boxes, what is the chance that a user gets more than 20 elixirs?\" Use the probability mass function to answer the boss' question."
   ]
  },
  {
   "cell_type": "code",
   "execution_count": 118,
   "metadata": {},
   "outputs": [
    {
     "name": "stdout",
     "output_type": "stream",
     "text": [
      "4.022449066141463%\n",
      "2.7041674394231836%\n",
      "1.7136034308643127%\n",
      "1.0255324880363967%\n",
      "0.5806323645500511%\n",
      "0.31149218615861674%\n",
      "0.15856502689069973%\n",
      "0.076691581633405%\n"
     ]
    }
   ],
   "source": [
    "print(str((elixer_dist.pmf(20))*100)+'%')\n",
    "print(str((elixer_dist.pmf(21))*100)+'%')\n",
    "print(str((elixer_dist.pmf(22))*100)+'%')\n",
    "print(str((elixer_dist.pmf(23))*100)+'%')\n",
    "print(str((elixer_dist.pmf(24))*100)+'%')\n",
    "print(str((elixer_dist.pmf(25))*100)+'%')\n",
    "print(str((elixer_dist.pmf(26))*100)+'%')\n",
    "print(str((elixer_dist.pmf(27))*100)+'%')\n"
   ]
  },
  {
   "cell_type": "code",
   "execution_count": 117,
   "metadata": {},
   "outputs": [
    {
     "data": {
      "image/png": "[encoded data removed]",
      "text/plain": [
       "<Figure size 432x288 with 1 Axes>"
      ]
     },
     "metadata": {
      "needs_background": "light"
     },
     "output_type": "display_data"
    }
   ],
   "source": [
    "plt.bar(elixer_outcomes, elixer_dist.pmf(elixer_outcomes));\n",
    "plt.xlabel('# of Elixrs');\n",
    "plt.ylabel('Probability of Elixr');"
   ]
  },
  {
   "cell_type": "markdown",
   "metadata": {},
   "source": [
    "You can see that this probably mass function histogram represents the probabilites of the different numbers of potential elixirs. 20 elixiers = about 4% and if you add 20 through 27 you get around 6.6% which is consistent with the CDF from above. "
   ]
  },
  {
   "cell_type": "markdown",
   "metadata": {},
   "source": [
    "#### 3d. Our boss asks, \"If a user earns 100 loot boxes, what is the chance that a user gets more than 20 elixirs?\" Use the cumulative distribution function to answer the boss' question."
   ]
  },
  {
   "cell_type": "code",
   "execution_count": 9,
   "metadata": {},
   "outputs": [
    {
     "data": {
      "image/png": "[encoded data removed]",
      "text/plain": [
       "<Figure size 432x288 with 1 Axes>"
      ]
     },
     "metadata": {
      "needs_background": "light"
     },
     "output_type": "display_data"
    }
   ],
   "source": [
    "plt.step(elixer_outcomes, elixer_dist.cdf(elixer_outcomes));\n",
    "plt.xlabel('# of Elixrs');\n",
    "plt.ylabel('Cum. Prob. of Elixr');"
   ]
  },
  {
   "cell_type": "code",
   "execution_count": 10,
   "metadata": {},
   "outputs": [
    {
     "name": "stdout",
     "output_type": "stream",
     "text": [
      "6.631976581888166%\n"
     ]
    }
   ],
   "source": [
    "print(str((1 - (elixer_dist.cdf(20)))*100)+'%')\n",
    "# You can also represent this using a step plot of the CDF function "
   ]
  },
  {
   "cell_type": "markdown",
   "metadata": {},
   "source": [
    "#### 3e. Our boss asks, \"If a user earns 100 loot boxes, what is the chance that a user gets more than 20 elixirs?\" Answer your boss' question. *Remember that your boss is not a math-y person!*"
   ]
  },
  {
   "cell_type": "markdown",
   "metadata": {},
   "source": [
    "In summary you can see from the 2 different methods above that the probability of geting more than 20 elixers is about 6.6%. That means that if 100 people opened 100 loot boxes each, that only about 6 or 7 of those 100 people would procure more than 20 elixirs."
   ]
  },
  {
   "cell_type": "markdown",
   "metadata": {},
   "source": [
    "#### 4. Your boss wants to know how many people purchased how many loot boxes last month. \n",
    "> For example, last month, 70% of users did not purchase any loot boxes. 10% of people purchased one loot box. 5% of people purchased two loot boxes... and so on.\n",
    "\n",
    "#### 4a. Recall our discrete distributions: discrete uniform, Bernoulli, binomial, Poisson. Let's suppose my random variable $Y$ counts up how many loot boxes each person purchased through the game last month. What distribution is best suited for $Y$? Why?"
   ]
  },
  {
   "cell_type": "markdown",
   "metadata": {},
   "source": [
    "You want to use the poisson distribution because that distribution is used to model data that has occurred during a fixed interval of time."
   ]
  },
  {
   "cell_type": "markdown",
   "metadata": {},
   "source": [
    "#### 4b. Suppose that, on average, your customers purchased 2.7 loot boxes last month. In order for your revenue to be at least $500,000, at least how many users would you need on your platform? (Round your answer up to the nearest thousand.) "
   ]
  },
  {
   "cell_type": "code",
   "execution_count": 119,
   "metadata": {},
   "outputs": [
    {
     "name": "stdout",
     "output_type": "stream",
     "text": [
      "186000\n"
     ]
    }
   ],
   "source": [
    "import math\n",
    "purchases_per_cutsomer = 2.7\n",
    "revenue = 500000\n",
    "\n",
    "customers = math.ceil((revenue / purchases_per_cutsomer)/1000) * 1000\n",
    "print(customers)"
   ]
  },
  {
   "cell_type": "markdown",
   "metadata": {},
   "source": [
    "In order for you to have a revenu of at least $500,000 you would need about 186,000 users."
   ]
  },
  {
   "cell_type": "markdown",
   "metadata": {},
   "source": [
    "#### 4c. Assume that your platform has the numer of users you mentioned in your last answer. Suppose that your platform calls anyone who purchases 5 or more loot boxes in a month a \"high value user.\" How much money do you expect to have earned from \"high value users?\" How about \"low value users?\""
   ]
  },
  {
   "cell_type": "code",
   "execution_count": 12,
   "metadata": {},
   "outputs": [],
   "source": [
    "cust_purchase_per_month = 2.7\n",
    "purchaser_dist = stats.poisson(cust_purchase_per_month)\n"
   ]
  },
  {
   "cell_type": "code",
   "execution_count": 13,
   "metadata": {},
   "outputs": [
    {
     "data": {
      "image/png": "[encoded data removed]",
      "text/plain": [
       "<Figure size 864x360 with 1 Axes>"
      ]
     },
     "metadata": {
      "needs_background": "light"
     },
     "output_type": "display_data"
    }
   ],
   "source": [
    "purchase_outcomes = list(range(0, 20))\n",
    "plt.figure(figsize = (12,5)) # changes the size of the graph\n",
    "plt.bar(purchase_outcomes, purchaser_dist.pmf(purchase_outcomes))\n",
    "plt.xlim(0,15,1) # changes the scale of the graph\n",
    "plt.xlabel('# of purchases');\n",
    "plt.ylabel('Probability of purchase');\n"
   ]
  },
  {
   "cell_type": "code",
   "execution_count": 14,
   "metadata": {},
   "outputs": [
    {
     "name": "stdout",
     "output_type": "stream",
     "text": [
      "74735.2380447238\n",
      "40357.02854415087\n",
      "18160.662844867886\n",
      "7004.827097306182\n",
      "2364.1291453408403\n",
      "709.2387436022507\n",
      "191.49446077260765\n",
      "47.003185826003914\n",
      "10.575716810850873\n",
      "2.1964950299459396\n",
      "0.4236097557752878\n"
     ]
    }
   ],
   "source": [
    "print(((purchaser_dist.pmf(5)) * 186_000) * 5)\n",
    "print(((purchaser_dist.pmf(6)) * 186_000) * 6)\n",
    "print(((purchaser_dist.pmf(7)) * 186_000) * 7)\n",
    "print(((purchaser_dist.pmf(8)) * 186_000) * 8)\n",
    "print(((purchaser_dist.pmf(9)) * 186_000) * 9)\n",
    "print(((purchaser_dist.pmf(10)) * 186_000) * 10)\n",
    "print(((purchaser_dist.pmf(11)) * 186_000) * 11)\n",
    "print(((purchaser_dist.pmf(12)) * 186_000) * 12)\n",
    "print(((purchaser_dist.pmf(13)) * 186_000) * 13)\n",
    "print(((purchaser_dist.pmf(14)) * 186_000) * 14)\n",
    "print(((purchaser_dist.pmf(15)) * 186_000) * 15)\n"
   ]
  },
  {
   "cell_type": "code",
   "execution_count": 15,
   "metadata": {},
   "outputs": [
    {
     "name": "stdout",
     "output_type": "stream",
     "text": [
      "$ 143582.39\n"
     ]
    }
   ],
   "source": [
    "boxes = list(range(5, 15))\n",
    "purchaser_dist.pmf(boxes)\n",
    "high_value_earnings = sum((((purchaser_dist.pmf(boxes)) * customers)) * boxes)\n",
    "print('$',round((high_value_earnings),2))"
   ]
  },
  {
   "cell_type": "code",
   "execution_count": 16,
   "metadata": {},
   "outputs": [
    {
     "name": "stdout",
     "output_type": "stream",
     "text": [
      "$ 358617.09\n"
     ]
    }
   ],
   "source": [
    "boxes = list(range(1, 5))\n",
    "purchaser_dist.pmf(boxes)\n",
    "low_value_earnings = sum((((purchaser_dist.pmf(boxes)) * customers)) * boxes)\n",
    "print('$',round((low_value_earnings),2))"
   ]
  },
  {
   "cell_type": "code",
   "execution_count": 120,
   "metadata": {},
   "outputs": [
    {
     "name": "stdout",
     "output_type": "stream",
     "text": [
      "$ 502199.48\n"
     ]
    }
   ],
   "source": [
    "print('$',round((low_value_earnings + high_value_earnings),2))"
   ]
  },
  {
   "cell_type": "markdown",
   "metadata": {},
   "source": [
    "#### 4d. Suppose that you want to summarize how many people purchased how many loot boxes last month for your boss. Since your boss isn't math-y, what are 2-4 summary numbers you might use to summarize this for your boss? (Your answers will vary here - use your judgment!)"
   ]
  },
  {
   "cell_type": "markdown",
   "metadata": {},
   "source": [
    "I would tell my boss that given a revenue target of $500,000, around 186,000 people purchased boxes last month with around $359,000 in revuene coming from low value users and around $142,000 coming from high value users."
   ]
  },
  {
   "cell_type": "markdown",
   "metadata": {},
   "source": [
    "#### 5. Your boss asks \"How many loot boxes does it take before someone gets their first elixir?\" Using `np.random.choice`, simulate how many loot boxes it takes somone to get their first elixir. \n",
    "- Start an empty list.\n",
    "- Use control flow to have someone open loot boxes repeatedly.\n",
    "- Once they open a loot box containing an elixir, record the number of loot boxes it took in the empty list.\n",
    "- Repeat this process 100,000 times. \n",
    "\n",
    "This simulates how long it takes for someone to open a loot box containing elixir. Share the 5th, 25th, 50th, 75th, and 95th percentiles.\n",
    "\n",
    "> You may find [this documentation](https://docs.scipy.org/doc/numpy/reference/generated/numpy.random.choice.html)  and [this documentation](https://docs.scipy.org/doc/numpy/reference/generated/numpy.percentile.html) helpful."
   ]
  },
  {
   "cell_type": "code",
   "execution_count": 133,
   "metadata": {},
   "outputs": [],
   "source": [
    "import seaborn as sns\n",
    "loot_box_possible = [0, 0, 0, 0, 0, 0, 0, 0, 0, 0, 0, 0, 0, 0, 0, 0, 0, 1, 1, 1] # prob(success) = 0.15 so there are 20 values and 3 of them are 1 (or true) to account for the 15% prob(success)\n",
    "#np.random.choice(1, 1, p=[0.85, .15])\n",
    "loot_box_counter = [] # list representing number of tries prior to getting first elixer\n",
    "#open_box_trial = np.random.choice(loot_box_possible) # open_box_trial is a variable that represents opening a box once\n",
    "#empty_tries = 0 # a variable representing how many boxes you open before getting an elixer\n",
    "for i in range(100_000): \n",
    "    empty_tries = 0\n",
    "    open_box_trial = 0\n",
    "    while open_box_trial==0:\n",
    "        open_box_trial = np.random.choice(loot_box_possible)\n",
    "        #open_box_trial = np.random.choice(2, 1, p=[0.85, .15])\n",
    "        empty_tries += 1\n",
    "        if open_box_trial==1:\n",
    "            loot_box_counter.append(empty_tries)"
   ]
  },
  {
   "cell_type": "code",
   "execution_count": 134,
   "metadata": {},
   "outputs": [
    {
     "data": {
      "text/plain": [
       "6.66363"
      ]
     },
     "execution_count": 134,
     "metadata": {},
     "output_type": "execute_result"
    }
   ],
   "source": [
    "#\n",
    "np.mean(loot_box_counter)"
   ]
  },
  {
   "cell_type": "code",
   "execution_count": 135,
   "metadata": {},
   "outputs": [
    {
     "name": "stdout",
     "output_type": "stream",
     "text": [
      "1.0\n",
      "2.0\n",
      "5.0\n",
      "9.0\n",
      "19.0\n"
     ]
    }
   ],
   "source": [
    "np.array(loot_box_counter)\n",
    "print(np.percentile(loot_box_counter, 5))\n",
    "print(np.percentile(loot_box_counter, 25))\n",
    "print(np.percentile(loot_box_counter, 50))\n",
    "print(np.percentile(loot_box_counter, 75))\n",
    "print(np.percentile(loot_box_counter, 95))"
   ]
  },
  {
   "cell_type": "code",
   "execution_count": 124,
   "metadata": {},
   "outputs": [
    {
     "data": {
      "image/png": "[encoded data removed]",
      "text/plain": [
       "<Figure size 432x288 with 1 Axes>"
      ]
     },
     "metadata": {
      "needs_background": "light"
     },
     "output_type": "display_data"
    }
   ],
   "source": [
    "import seaborn as sns\n",
    "sns.distplot(loot_box_counter);\n",
    "plt.xlim(0,22,1); # changes the scale of the graph\n",
    "plt.xlabel('# of elixirs');\n",
    "plt.ylabel('Probability');"
   ]
  },
  {
   "cell_type": "markdown",
   "metadata": {},
   "source": [
    "Above is the distribution of users. Per the calculations above you can see that it takes the average user about 6.67 boxes to get your first elixir. The 5th percentile is centered around 1.0 while the 25th, 50th, 75th, and 95th percentiles are centered around 2.0, 5.0, 9.0 and 19.0 elixirs respectively. "
   ]
  },
  {
   "cell_type": "markdown",
   "metadata": {},
   "source": [
    "**NOTE**: When your Jupyter notebook is open, double-click on this Markdown cell! You can delete this text and put your answer to the previous problem in here."
   ]
  },
  {
   "cell_type": "markdown",
   "metadata": {},
   "source": [
    "### Version 2\n",
    "\n",
    "After a substantial update to the game, suppose every loot box can be opened to reveal *one of four different* items:\n",
    "- magical elixir (occurs 1% of the time, most valuable)\n",
    "- golden pendant (occurs 9% of the time, valuable)\n",
    "- steel armor (occurs 30% of the time, semi-valuable)\n",
    "- bronze coin (occurs 60% of the time, least valuable)"
   ]
  },
  {
   "cell_type": "markdown",
   "metadata": {},
   "source": [
    "#### 6. Suppose you want repeat problem 5 above, but do that for the version 2 loot boxes so you can track how many loot boxes are needed to get each item? (e.g. You'd like to be able to say that on average it takes 10 trials to get a golden pendant, 3 trials to get steel armor, and so on.) What Python datatype is the best way to store this data? Why?"
   ]
  },
  {
   "cell_type": "markdown",
   "metadata": {},
   "source": [
    "**NOTE**: When your Jupyter notebook is open, double-click on this Markdown cell! You can delete this text and put your answer to the previous problem in here."
   ]
  },
  {
   "cell_type": "code",
   "execution_count": 132,
   "metadata": {},
   "outputs": [
    {
     "name": "stdout",
     "output_type": "stream",
     "text": [
      "1.66725\n",
      "3.33372\n",
      "11.15902\n",
      "99.90361\n"
     ]
    }
   ],
   "source": [
    "import seaborn as sns\n",
    "m_elixir = [] # list representing number of tries prior to getting first elixer\n",
    "for i in range(100_000): \n",
    "    elixer_tries = 0\n",
    "    elixer_box_trial = 0\n",
    "    while elixer_box_trial==0:\n",
    "        elixer_box_trial = np.random.choice(2, 1, p=[0.99, .01])\n",
    "        elixer_tries += 1\n",
    "    m_elixir.append(elixer_tries)\n",
    "print(np.mean(m_elixir))\n",
    "    \n",
    "pendant = [] # list representing number of tries prior to getting first pendant\n",
    "for i in range(100_000): \n",
    "    pendant_tries = 0\n",
    "    pendant_box_trial = 0\n",
    "    while pendant_box_trial==0:\n",
    "        pendant_box_trial = np.random.choice(2, 1, p=[0.91, .09])\n",
    "        pendant_tries += 1\n",
    "    pendant.append(pendant_tries)\n",
    "print(np.mean(pendant))\n",
    "\n",
    "armor = [] # list representing number of tries prior to getting first armor\n",
    "for i in range(100_000): \n",
    "    armor_tries = 0\n",
    "    armor_box_trial = 0\n",
    "    while armor_box_trial==0:\n",
    "        armor_box_trial = np.random.choice(2, 1, p=[0.70, .30])\n",
    "        armor_tries += 1\n",
    "    armor.append(armor_tries)\n",
    "print(np.mean(armor))\n",
    "    \n",
    "bronze_coin = [] # list representing number of tries prior to getting first bronze coin\n",
    "for i in range(100_000): \n",
    "    coin_tries = 0\n",
    "    coin_box_trial = 0\n",
    "    while coin_box_trial==0:\n",
    "        coin_box_trial = np.random.choice(2, 1, p=[0.40, .60])\n",
    "        coin_tries += 1\n",
    "    bronze_coin.append(coin_tries)\n",
    "print(np.mean(bronze_coin))\n"
   ]
  },
  {
   "cell_type": "code",
   "execution_count": 91,
   "metadata": {},
   "outputs": [
    {
     "data": {
      "image/png": "[encoded data removed]",
      "text/plain": [
       "<Figure size 432x288 with 1 Axes>"
      ]
     },
     "metadata": {
      "needs_background": "light"
     },
     "output_type": "display_data"
    }
   ],
   "source": [
    "import seaborn as sns\n",
    "sns.distplot(bronze_coin);"
   ]
  },
  {
   "cell_type": "code",
   "execution_count": 88,
   "metadata": {},
   "outputs": [
    {
     "data": {
      "image/png": "[encoded data removed]",
      "text/plain": [
       "<Figure size 432x288 with 1 Axes>"
      ]
     },
     "metadata": {
      "needs_background": "light"
     },
     "output_type": "display_data"
    }
   ],
   "source": [
    "sns.distplot(armor);"
   ]
  },
  {
   "cell_type": "code",
   "execution_count": 89,
   "metadata": {},
   "outputs": [
    {
     "data": {
      "image/png": "[encoded data removed]",
      "text/plain": [
       "<Figure size 432x288 with 1 Axes>"
      ]
     },
     "metadata": {
      "needs_background": "light"
     },
     "output_type": "display_data"
    }
   ],
   "source": [
    "sns.distplot(pendant);"
   ]
  },
  {
   "cell_type": "code",
   "execution_count": 125,
   "metadata": {},
   "outputs": [
    {
     "data": {
      "image/png": "[encoded data removed]",
      "text/plain": [
       "<Figure size 432x288 with 1 Axes>"
      ]
     },
     "metadata": {
      "needs_background": "light"
     },
     "output_type": "display_data"
    }
   ],
   "source": [
    "sns.distplot(m_elixir);"
   ]
  },
  {
   "cell_type": "markdown",
   "metadata": {},
   "source": [
    "You can see based on the probability distributions, the means of those probability distributions, and the graphs of the probability distributions above that it takes about 1.67 boxes to get a bronze coin, 3.33 boxes to get a steel armor, 11.1 boxes to get a golden pendant and about 100 boxes to get a magic elixir. While we used a series of lists to store the distributions of this data it is possible to use a dictionary as well. "
   ]
  },
  {
   "cell_type": "markdown",
   "metadata": {},
   "source": [
    "#### 7. Suppose you and your boss want to measure whether \"Version 2\" is better than \"Version 1.\" What metrics do you think are important to measure? (Your answers will vary here - use your judgment!)"
   ]
  },
  {
   "cell_type": "markdown",
   "metadata": {},
   "source": [
    "I would say that we would need some data about how often someone plays without getting a prize from a lootbox. I would speculate that the second game might be better because there is more opportunities for engagement with the user. They are getting a prize more often and if the company can make version 2 as cost effective as version 1 then I would anticipate that version two would produce better outcomes in the long run. I might run a trial and assign different users different games and see the level of playing time for each user and how much they choose to purchase things like a magic elixir. "
   ]
  }
 ],
 "metadata": {
  "kernelspec": {
   "display_name": "Python 3",
   "language": "python",
   "name": "python3"
  },
  "language_info": {
   "codemirror_mode": {
    "name": "ipython",
    "version": 3
   },
   "file_extension": ".py",
   "mimetype": "text/x-python",
   "name": "python",
   "nbconvert_exporter": "python",
   "pygments_lexer": "ipython3",
   "version": "3.6.8"
  }
 },
 "nbformat": 4,
 "nbformat_minor": 2
}
